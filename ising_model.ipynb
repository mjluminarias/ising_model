{
 "cells": [
  {
   "cell_type": "code",
   "execution_count": 2,
   "metadata": {},
   "outputs": [],
   "source": [
    "import numpy as np\n",
    "from PIL import Image"
   ]
  },
  {
   "cell_type": "code",
   "execution_count": 4,
   "metadata": {},
   "outputs": [
    {
     "data": {
      "text/plain": [
       "array([[ 1, -1,  1,  1, -1,  1,  1,  1,  1,  1],\n",
       "       [-1,  1, -1, -1,  1,  1,  1, -1,  1, -1],\n",
       "       [ 1,  1, -1, -1,  1,  1,  1,  1, -1, -1],\n",
       "       [-1, -1, -1, -1, -1,  1,  1, -1,  1,  1],\n",
       "       [ 1,  1,  1,  1, -1,  1,  1, -1,  1, -1],\n",
       "       [ 1,  1, -1,  1,  1,  1,  1, -1, -1,  1],\n",
       "       [ 1, -1, -1, -1, -1,  1, -1,  1, -1, -1],\n",
       "       [-1, -1, -1,  1, -1, -1, -1,  1,  1,  1],\n",
       "       [-1, -1, -1,  1,  1,  1,  1, -1, -1, -1],\n",
       "       [ 1,  1, -1, -1, -1,  1, -1, -1, -1, -1]])"
      ]
     },
     "execution_count": 4,
     "metadata": {},
     "output_type": "execute_result"
    }
   ],
   "source": [
    "def random_spin_field(N,M):\n",
    "    return np.random.choice([-1,1], size=(N,M))\n",
    "\n",
    "random_spin_field(10,10)"
   ]
  },
  {
   "cell_type": "code",
   "execution_count": null,
   "metadata": {},
   "outputs": [],
   "source": [
    "def display_spin_field(field):\n",
    "    return Image.fromarray(np.unit8((field+1) * 0.5 * 255))\n",
    "\n",
    "display_spin_field(random_spin_field(200,200))"
   ]
  }
 ],
 "metadata": {
  "kernelspec": {
   "display_name": "Python 3",
   "language": "python",
   "name": "python3"
  },
  "language_info": {
   "codemirror_mode": {
    "name": "ipython",
    "version": 3
   },
   "file_extension": ".py",
   "mimetype": "text/x-python",
   "name": "python",
   "nbconvert_exporter": "python",
   "pygments_lexer": "ipython3",
   "version": "3.11.3"
  }
 },
 "nbformat": 4,
 "nbformat_minor": 2
}
